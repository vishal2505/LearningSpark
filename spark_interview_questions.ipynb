{
 "metadata": {
  "language_info": {
   "codemirror_mode": {
    "name": "ipython",
    "version": 3
   },
   "file_extension": ".py",
   "mimetype": "text/x-python",
   "name": "python",
   "nbconvert_exporter": "python",
   "pygments_lexer": "ipython3",
   "version": 3
  },
  "orig_nbformat": 2,
  "kernelspec": {
   "name": "spylon-kernel",
   "display_name": "spylon-kernel"
  }
 },
 "nbformat": 4,
 "nbformat_minor": 2,
 "cells": [
  {
   "cell_type": "code",
   "execution_count": 1,
   "metadata": {},
   "outputs": [
    {
     "output_type": "display_data",
     "data": {
      "text/plain": "Intitializing Scala interpreter ..."
     },
     "metadata": {}
    },
    {
     "output_type": "display_data",
     "data": {
      "text/plain": "Spark Web UI available at http://admins-mbp.lan:4043\nSparkContext available as 'sc' (version = 3.0.1, master = local[*], app id = local-1607429533340)\nSparkSession available as 'spark'\n"
     },
     "metadata": {}
    },
    {
     "output_type": "execute_result",
     "data": {
      "text/plain": [
       "defined class User\n",
       "defined class UserActivity\n",
       "LoginActivityTypeId: Int = 0\n",
       "LogoutActivityTypeId: Int = 1\n"
      ]
     },
     "metadata": {},
     "execution_count": 1
    }
   ],
   "source": [
    "case class User(userId: Long, userName: String)\n",
    "\n",
    "case class UserActivity(userId: Long, activityTypeId: Int, timestampEpochSec: Long)\n",
    "\n",
    "val LoginActivityTypeId = 0\n",
    "val LogoutActivityTypeId = 1"
   ]
  },
  {
   "cell_type": "code",
   "execution_count": 13,
   "metadata": {},
   "outputs": [
    {
     "output_type": "execute_result",
     "data": {
      "text/plain": [
       "import org.apache.spark.rdd.RDD\n",
       "readUserData: ()org.apache.spark.rdd.RDD[User]\n"
      ]
     },
     "metadata": {},
     "execution_count": 13
    }
   ],
   "source": [
    "import org.apache.spark.rdd.RDD\n",
    "\n",
    "def readUserData(): RDD[User] = {\n",
    " sc.parallelize(\n",
    "   Array(\n",
    "     User(1, \"Doe, John\"),\n",
    "     User(2, \"Doe, Jane\"),\n",
    "     User(3, \"X, Mr.\"))\n",
    " )\n",
    "}"
   ]
  },
  {
   "cell_type": "code",
   "execution_count": 14,
   "metadata": {},
   "outputs": [
    {
     "output_type": "execute_result",
     "data": {
      "text/plain": [
       "readUserActivityData: ()org.apache.spark.rdd.RDD[UserActivity]\n"
      ]
     },
     "metadata": {},
     "execution_count": 14
    }
   ],
   "source": [
    "def readUserActivityData(): RDD[UserActivity] = {\n",
    " sc.parallelize(\n",
    "   Array(\n",
    "     UserActivity(1, LoginActivityTypeId, 1514764800L),\n",
    "     UserActivity(2, LoginActivityTypeId, 1514808000L),\n",
    "     UserActivity(1, LogoutActivityTypeId, 1514829600L),\n",
    "     UserActivity(1, LoginActivityTypeId, 1514894400L))\n",
    " )\n",
    "}"
   ]
  },
  {
   "cell_type": "code",
   "execution_count": 26,
   "metadata": {},
   "outputs": [
    {
     "output_type": "execute_result",
     "data": {
      "text/plain": [
       "calculate: ()Unit\n"
      ]
     },
     "metadata": {},
     "execution_count": 26
    }
   ],
   "source": [
    "def calculate(): Unit = {\n",
    " val userRdd: RDD[(Long, User)] =\n",
    "   readUserData().map(e => (e.userId, e))\n",
    " val userActivityRdd: RDD[(Long, UserActivity)] =\n",
    "   readUserActivityData().map(e => (e.userId, e))\n",
    " \n",
    " val result1 = userRdd\n",
    "   .leftOuterJoin(userActivityRdd) //for debugging purpose\n",
    "\n",
    " val result = userRdd\n",
    "   .leftOuterJoin(userActivityRdd)\n",
    "   .filter(e => e._2._2.isDefined && e._2._2.get.activityTypeId == LoginActivityTypeId)\n",
    "   .map(e => (e._2._1.userName, e._2._2.get.timestampEpochSec))\n",
    "   .reduceByKey((a, b) => if (a < b) a else b)\n",
    "\n",
    " result1\n",
    "   .foreach(println)    //for debugging purpose\n",
    "\n",
    " result\n",
    "   .foreach(e => println(s\"${e._1}: ${e._2}\"))\n",
    "\n",
    "}"
   ]
  },
  {
   "cell_type": "code",
   "execution_count": 27,
   "metadata": {},
   "outputs": [
    {
     "output_type": "stream",
     "name": "stdout",
     "text": [
      "Doe, Jane: 1514808000\n",
      "Doe, John: 1514764800\n",
      "(3,(User(3,X, Mr.),None))\n",
      "(1,(User(1,Doe, John),Some(UserActivity(1,0,1514764800))))\n",
      "(1,(User(1,Doe, John),Some(UserActivity(1,1,1514829600))))\n",
      "(1,(User(1,Doe, John),Some(UserActivity(1,0,1514894400))))\n",
      "(2,(User(2,Doe, Jane),Some(UserActivity(2,0,1514808000))))\n"
     ]
    }
   ],
   "source": [
    "calculate()"
   ]
  },
  {
   "source": [
    "<img src=\"images/partition_tuning.png\">"
   ],
   "cell_type": "markdown",
   "metadata": {}
  },
  {
   "source": [
    "\""
   ],
   "cell_type": "markdown",
   "metadata": {}
  }
 ]
}