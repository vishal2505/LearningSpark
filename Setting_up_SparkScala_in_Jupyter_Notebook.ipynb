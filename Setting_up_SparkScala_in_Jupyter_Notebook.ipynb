{
 "cells": [
  {
   "cell_type": "markdown",
   "metadata": {},
   "source": [
    "### Step 1 : Install the package\n",
    "pip install pip install spylon-kernel\n",
    "\n",
    "### Step 2: Create a kernal (scala)\n",
    "This will alow us to select scala kernal in the notebook\n",
    "\n",
    "python -m spylon_kernel install\n",
    "\n",
    "### Step 3: Install and use jpyter notebook\n",
    "pip install jupyter\n",
    "\n",
    "And in the notebook we select New -> spylon-kernel . This will start our scala kernel.\n",
    "\n",
    "Please make sure SPARK_HOME in set.\n",
    "\n",
    "To set in linux/mac OS, put below statements in the home .bash_profile file.\n",
    "e.g export SPARK_HOME=/Users/vishalmishra/spark-2.4.3-bin-hadoop2.7\n",
    "\n",
    "cd ~\n",
    "vi .bash_profile\n",
    "\n",
    "----\n",
    "----\n",
    "\n",
    "export SPARK_HOME=/path/to/spark directory\n",
    "\n",
    "---\n",
    "\n",
    ":wq!  --> Save and Exit\n",
    "\n"
   ]
  },
  {
   "cell_type": "markdown",
   "metadata": {},
   "source": [
    "### Testing spark version"
   ]
  },
  {
   "cell_type": "code",
   "execution_count": 1,
   "metadata": {},
   "outputs": [
    {
     "data": {
      "text/plain": [
       "Intitializing Scala interpreter ..."
      ]
     },
     "metadata": {},
     "output_type": "display_data"
    },
    {
     "data": {
      "text/plain": [
       "Spark Web UI available at http://192.168.1.69:4040\n",
       "SparkContext available as 'sc' (version = 3.0.1, master = local[*], app id = local-1601114713860)\n",
       "SparkSession available as 'spark'\n"
      ]
     },
     "metadata": {},
     "output_type": "display_data"
    },
    {
     "data": {
      "text/plain": [
       "res0: String = 3.0.1\n"
      ]
     },
     "execution_count": 1,
     "metadata": {},
     "output_type": "execute_result"
    }
   ],
   "source": [
    "spark.version"
   ]
  },
  {
   "cell_type": "markdown",
   "metadata": {},
   "source": [
    "### Tesing simple scala code"
   ]
  },
  {
   "cell_type": "code",
   "execution_count": 2,
   "metadata": {},
   "outputs": [
    {
     "data": {
      "text/plain": [
       "x: Int = 5\n",
       "y: Int = 7\n",
       "res1: Int = 12\n"
      ]
     },
     "execution_count": 2,
     "metadata": {},
     "output_type": "execute_result"
    }
   ],
   "source": [
    "val x=5\n",
    "val y=7\n",
    "x+y"
   ]
  },
  {
   "cell_type": "markdown",
   "metadata": {},
   "source": [
    "### Testing Spark dataset/dataframe Api"
   ]
  },
  {
   "cell_type": "code",
   "execution_count": 3,
   "metadata": {},
   "outputs": [
    {
     "name": "stdout",
     "output_type": "stream",
     "text": [
      "+----+---+\n",
      "|  _1| _2|\n",
      "+----+---+\n",
      "|Vish| 20|\n",
      "|Abhi| 25|\n",
      "|Jack| 19|\n",
      "|Ryan| 21|\n",
      "+----+---+\n",
      "\n"
     ]
    },
    {
     "data": {
      "text/plain": [
       "data: Seq[(String, Int)] = List((Vish,20), (Abhi,25), (Jack,19), (Ryan,21))\n",
       "ds: org.apache.spark.sql.Dataset[(String, Int)] = [_1: string, _2: int]\n"
      ]
     },
     "execution_count": 3,
     "metadata": {},
     "output_type": "execute_result"
    }
   ],
   "source": [
    "val data = Seq((\"Vish\",20), (\"Abhi\",25), (\"Jack\",19), (\"Ryan\",21))\n",
    "val ds = spark.createDataset(data)\n",
    "ds.show()"
   ]
  },
  {
   "cell_type": "code",
   "execution_count": 4,
   "metadata": {},
   "outputs": [
    {
     "data": {
      "text/plain": [
       "defined class Student\n"
      ]
     },
     "execution_count": 4,
     "metadata": {},
     "output_type": "execute_result"
    }
   ],
   "source": [
    "//create a case class defnining the schema for the dataframe\n",
    "case class Student(name: String, Age: Integer)"
   ]
  },
  {
   "cell_type": "code",
   "execution_count": 5,
   "metadata": {},
   "outputs": [
    {
     "data": {
      "text/plain": [
       "dataframe: org.apache.spark.sql.Dataset[Student] = [name: string, Age: int]\n"
      ]
     },
     "execution_count": 5,
     "metadata": {},
     "output_type": "execute_result"
    }
   ],
   "source": [
    "//map dataset to the case class Student\n",
    "val dataframe = ds.map{case (a, b) => Student(a,b)}"
   ]
  },
  {
   "cell_type": "code",
   "execution_count": 6,
   "metadata": {},
   "outputs": [],
   "source": [
    "//Create Temporary Table\n",
    "dataframe.toDF.createOrReplaceTempView(\"student_table\")"
   ]
  },
  {
   "cell_type": "markdown",
   "metadata": {},
   "source": [
    "### Testing Python\n",
    "##### You can use Python as well within the same notebook"
   ]
  },
  {
   "cell_type": "code",
   "execution_count": 7,
   "metadata": {},
   "outputs": [
    {
     "name": "stdout",
     "output_type": "stream",
     "text": [
      "+----+\n",
      "|name|\n",
      "+----+\n",
      "|Vish|\n",
      "|Abhi|\n",
      "|Jack|\n",
      "|Ryan|\n",
      "+----+\n",
      "\n"
     ]
    }
   ],
   "source": [
    "%%python\n",
    "pdf = spark.sql(\"select name from student_table\")\n",
    "pdf.show()"
   ]
  },
  {
   "cell_type": "code",
   "execution_count": null,
   "metadata": {},
   "outputs": [],
   "source": []
  }
 ],
 "metadata": {
  "kernelspec": {
   "display_name": "spylon-kernel",
   "language": "scala",
   "name": "spylon-kernel"
  },
  "language_info": {
   "codemirror_mode": "text/x-scala",
   "file_extension": ".scala",
   "help_links": [
    {
     "text": "MetaKernel Magics",
     "url": "https://metakernel.readthedocs.io/en/latest/source/README.html"
    }
   ],
   "mimetype": "text/x-scala",
   "name": "scala",
   "pygments_lexer": "scala",
   "version": "0.4.1"
  }
 },
 "nbformat": 4,
 "nbformat_minor": 4
}
